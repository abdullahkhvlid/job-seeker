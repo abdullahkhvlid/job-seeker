{
  "nbformat": 4,
  "nbformat_minor": 0,
  "metadata": {
    "colab": {
      "provenance": []
    },
    "kernelspec": {
      "name": "python3",
      "display_name": "Python 3"
    },
    "language_info": {
      "name": "python"
    }
  },
  "cells": [
    {
      "cell_type": "code",
      "source": [
        "skilllst = []\n",
        "\n",
        "datascience = [\"statistics\", \"python programming\", \"data visualization\", \"machine learning\", \"sql\"]\n",
        "softwareengineer = [\"data structures & algorithms\", \"object-oriented programming\", \"version control (git)\", \"database management\", \"problem solving\"]\n",
        "aiengineer = [\"deep learning\", \"python programming\", \"tensorflow or pytorch\", \"linear algebra\", \"neural networks\"]\n",
        "cybersecurity = [\"network security\", \"cryptography\", \"risk assessment\", \"python scripting\", \"ethical hacking\"]\n",
        "\n",
        "job_titles = {\n",
        "    \"data science\": datascience,\n",
        "    \"software engineer\": softwareengineer,\n",
        "    \"ai engineer\": aiengineer,\n",
        "    \"cybersecurity\": cybersecurity\n",
        "}\n",
        "\n",
        "try:\n",
        "    print(\"Welcome to Job Finder. Available jobs:\")\n",
        "    for job in job_titles:\n",
        "        print(job)\n",
        "\n",
        "    userjob = input(\"Enter the job you are looking for: \").lower().strip()\n",
        "    if userjob not in job_titles:\n",
        "        print(\"Sorry, this job is not available.\")\n",
        "        exit()\n",
        "\n",
        "    required_skills = job_titles[userjob]\n",
        "\n",
        "    while True:\n",
        "        userskills = input(\"Enter your skills one by one (type '0' to stop): \").lower().strip()\n",
        "        if userskills == \"0\":\n",
        "            break\n",
        "        skilllst.append(userskills)\n",
        "\n",
        "    matched_skills = set(skilllst).intersection(required_skills)\n",
        "    match_percentage = (len(matched_skills) / len(required_skills)) * 100\n",
        "\n",
        "    if match_percentage >= 60:\n",
        "        print(\"You are eligible for this job.\")\n",
        "        userex = int(input(f\"Enter your experience in years for the {userjob} field: \"))\n",
        "\n",
        "        if userex <= 2:\n",
        "            print(f\"You can apply for a Junior {userjob.title()} role.\")\n",
        "            resumeupload = input(\"Upload your resume (.txt format): \")\n",
        "        else:\n",
        "            print(f\"You can apply for a Senior {userjob.title()} role.\")\n",
        "            resumeupload = input(\"Upload your resume (.txt format): \")\n",
        "    else:\n",
        "        print(\"You are not eligible for this job based on your current skill set.\")\n",
        "\n",
        "except:\n",
        "  print(\"Invalid input. Please provide correct values.\")\n"
      ],
      "metadata": {
        "colab": {
          "base_uri": "https://localhost:8080/"
        },
        "id": "CDuwzDO779mA",
        "outputId": "5c9632fa-e88b-466e-8ec4-28d52e81211c"
      },
      "execution_count": null,
      "outputs": [
        {
          "name": "stdout",
          "output_type": "stream",
          "text": [
            "Welcome to Job Finder. Available jobs:\n",
            "data science\n",
            "software engineer\n",
            "ai engineer\n",
            "cybersecurity\n",
            "Enter your skills one by one (type '0' to stop): ai engineer\n"
          ]
        }
      ]
    }
  ]
}